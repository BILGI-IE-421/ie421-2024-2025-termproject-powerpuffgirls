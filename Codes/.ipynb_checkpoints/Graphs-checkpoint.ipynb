{
 "cells": [
  {
   "cell_type": "code",
   "execution_count": 1,
   "id": "18bed28c-bb50-49d5-92fc-ce7720d0f8ea",
   "metadata": {},
   "outputs": [],
   "source": [
    "import numpy as np\n"
   ]
  },
  {
   "cell_type": "code",
   "execution_count": 2,
   "id": "817aa8e4-b5e5-40fb-817e-ea40d267610a",
   "metadata": {},
   "outputs": [],
   "source": [
    "import pandas as pd\n",
    "import seaborn as sns\n",
    "import matplotlib.pyplot as plt\n",
    "\n",
    "import pandas as pd\n",
    "import plotly.graph_objects as go\n",
    "from sklearn.linear_model import LinearRegression"
   ]
  },
  {
   "cell_type": "code",
   "execution_count": 3,
   "id": "8e192e2b-410e-43c6-8d2e-07d1125ee7c3",
   "metadata": {},
   "outputs": [
    {
     "name": "stdout",
     "output_type": "stream",
     "text": [
      "   Year         Total number of vehicles  Total Ratio  \\\n",
      "0  2004                          5108196        100.0   \n",
      "1  2005                          5537045        100.0   \n",
      "2  2006                          5945182        100.0   \n",
      "3  2007                          6305045        100.0   \n",
      "4  2008                          6694151        100.0   \n",
      "\n",
      "        Number of Gasoline Vehicles  Gasoline Ratio  \\\n",
      "0                           4062486       75.225093   \n",
      "1                           3883101       67.266110   \n",
      "2                           3838598       62.507784   \n",
      "3                           3714973       57.399312   \n",
      "4                           3531763       51.963490   \n",
      "\n",
      "   Carbon emission - Gasoline (kgCO2)  \\\n",
      "0                         11261211192   \n",
      "1                         10763955972   \n",
      "2                         10640593656   \n",
      "3                         10297905156   \n",
      "4                          9790047036   \n",
      "\n",
      "   Carbon emission -  Gasoline (Megaton CO2)       Number of Diesel Vehicles  \\\n",
      "0                               11261.211192                          252629   \n",
      "1                               10763.955972                          394617   \n",
      "2                               10640.593656                          583794   \n",
      "3                               10297.905156                          763946   \n",
      "4                                9790.047036                          947727   \n",
      "\n",
      "   Diesel Ratio  Carbon emission - Diesel (kgCO2)  ...  \\\n",
      "0      4.677934                      6.093411e+08  ...   \n",
      "1      6.835864                      9.518162e+08  ...   \n",
      "2      9.506510                      1.408111e+09  ...   \n",
      "3     11.803578                      1.842638e+09  ...   \n",
      "4     13.944085                      2.285918e+09  ...   \n",
      "\n",
      "   Total Carbon Emission Non-elec  Tot Carbon Emission  If all electric  \\\n",
      "0                    13666.880805         13666.880805             9531   \n",
      "1                    14568.147831         14568.147831            10331   \n",
      "2                    15497.824134         15497.824134            11092   \n",
      "3                    16276.718298         16276.718298            11764   \n",
      "4                    17092.171725         17092.171725            12490   \n",
      "\n",
      "        Number of Electric Vehicles  Ratio.1  Carbon emission (kgCO2)  \\\n",
      "0                                 0        -                      0.0   \n",
      "1                                 0        -                      0.0   \n",
      "2                                 0        -                      0.0   \n",
      "3                                 0        -                      0.0   \n",
      "4                                 0        -                      0.0   \n",
      "\n",
      "   Carbon emission (kgCO2).1  Carbon emission (Megaton CO2)  \\\n",
      "0                        0.0                            0.0   \n",
      "1                        0.0                            0.0   \n",
      "2                        0.0                            0.0   \n",
      "3                        0.0                            0.0   \n",
      "4                        0.0                            0.0   \n",
      "\n",
      "   Carbon emission (Megaton CO2).1  Electric  \n",
      "0                              0.0         0  \n",
      "1                              0.0         0  \n",
      "2                              0.0         0  \n",
      "3                              0.0         0  \n",
      "4                              0.0         0  \n",
      "\n",
      "[5 rows x 26 columns]\n"
     ]
    }
   ],
   "source": [
    "file_path = r\"C:\\Users\\Asus\\Desktop\\IE 421 Project\\Carbon Emission Calculation.xlsx\"\n",
    "sheet_name = \"Carbon emission - Year - Type\"       \n",
    "df = pd.read_excel(file_path, sheet_name=sheet_name)\n",
    "\n",
    "print(df.head())"
   ]
  },
  {
   "cell_type": "code",
   "execution_count": 4,
   "id": "39a1c79e-77f4-49f1-a373-d7a1b4de1d18",
   "metadata": {},
   "outputs": [],
   "source": [
    "import plotly.express as px\n",
    "import pandas as pd\n"
   ]
  },
  {
   "cell_type": "code",
   "execution_count": 16,
   "id": "90837828-50eb-43b7-991b-91f82bab8dab",
   "metadata": {},
   "outputs": [
    {
     "data": {
      "application/vnd.plotly.v1+json": {
       "config": {
        "plotlyServerURL": "https://plot.ly"
       },
       "data": [
        {
         "hovertemplate": "<b>%{hovertext}</b><br><br>Year=%{x}<br>Diesel Ratio=%{y}<br>Carbon Emission (kgCO2)=%{marker.color}<extra></extra>",
         "hovertext": [
          2004,
          2005,
          2006,
          2007,
          2008,
          2009,
          2010,
          2011,
          2012,
          2013,
          2014,
          2015,
          2016,
          2017,
          2018,
          2019,
          2020,
          2021,
          2022,
          2023,
          2024
         ],
         "legendgroup": "",
         "marker": {
          "color": [
           609341148.0000001,
           951816204.0000002,
           1408111128.0000002,
           1842637752.0000002,
           2285917524.0000005,
           2681714664.0000005,
           3332493972.0000005,
           4235554008.000001,
           5068108872.000001,
           6023268108.000001,
           6953518620.000001,
           8070433812.000002,
           9174698064.000002,
           10266207660.000002,
           11019619980.000002,
           11504550168.000002,
           12094626672.000002,
           12443032836.000002,
           12691644912.000002,
           13086672624.000002,
           13342877676.000002
          ],
          "coloraxis": "coloraxis",
          "size": [
           609341148.0000001,
           951816204.0000002,
           1408111128.0000002,
           1842637752.0000002,
           2285917524.0000005,
           2681714664.0000005,
           3332493972.0000005,
           4235554008.000001,
           5068108872.000001,
           6023268108.000001,
           6953518620.000001,
           8070433812.000002,
           9174698064.000002,
           10266207660.000002,
           11019619980.000002,
           11504550168.000002,
           12094626672.000002,
           12443032836.000002,
           12691644912.000002,
           13086672624.000002,
           13342877676.000002
          ],
          "sizemode": "area",
          "sizeref": 33357194.190000005,
          "symbol": "circle"
         },
         "mode": "markers",
         "name": "",
         "orientation": "v",
         "showlegend": false,
         "type": "scatter",
         "x": [
          2004,
          2005,
          2006,
          2007,
          2008,
          2009,
          2010,
          2011,
          2012,
          2013,
          2014,
          2015,
          2016,
          2017,
          2018,
          2019,
          2020,
          2021,
          2022,
          2023,
          2024
         ],
         "xaxis": "x",
         "y": [
          4.677933649850753,
          6.835864047346626,
          9.506509697456046,
          11.803578282105684,
          13.944084592585968,
          15.672788866704144,
          18.312210349241642,
          21.644397568331065,
          24.294558540850687,
          26.89820887140059,
          29.244368611415293,
          31.597360627959993,
          33.60816992545855,
          35.36318361499165,
          36.84945141185931,
          38.148406840603435,
          38.280329071418286,
          37.63883361125166,
          36.87536757100112,
          35.645517607295226,
          34.31121933162791
         ],
         "yaxis": "y"
        },
        {
         "hovertemplate": "<b>%{hovertext}</b><br><br>Year=%{x}<br>Gasoline Ratio=%{y}<br>Carbon Emission (kgCO2)=%{marker.color}<extra></extra>",
         "hovertext": [
          2004,
          2005,
          2006,
          2007,
          2008,
          2009,
          2010,
          2011,
          2012,
          2013,
          2014,
          2015,
          2016,
          2017,
          2018,
          2019,
          2020,
          2021,
          2022,
          2023,
          2024
         ],
         "legendgroup": "",
         "marker": {
          "color": [
           11261211192,
           10763955972,
           10640593656,
           10297905156,
           9790047036,
           9352381500,
           8848124208,
           8416149588,
           8119786752,
           8007226920,
           7914276216,
           8115639840,
           8403994368,
           8649768204,
           8564443272,
           8371487124,
           8875650168,
           9688616784,
           10581012288,
           12094166700,
           13473533304
          ],
          "coloraxis": "coloraxis",
          "size": [
           11261211192,
           10763955972,
           10640593656,
           10297905156,
           9790047036,
           9352381500,
           8848124208,
           8416149588,
           8119786752,
           8007226920,
           7914276216,
           8115639840,
           8403994368,
           8649768204,
           8564443272,
           8371487124,
           8875650168,
           9688616784,
           10581012288,
           12094166700,
           13473533304
          ],
          "sizemode": "area",
          "sizeref": 33683833.26,
          "symbol": "circle"
         },
         "mode": "markers",
         "name": "",
         "orientation": "v",
         "showlegend": false,
         "type": "scatter",
         "x": [
          2004,
          2005,
          2006,
          2007,
          2008,
          2009,
          2010,
          2011,
          2012,
          2013,
          2014,
          2015,
          2016,
          2017,
          2018,
          2019,
          2020,
          2021,
          2022,
          2023,
          2024
         ],
         "xaxis": "x",
         "y": [
          75.22509277021872,
          67.26610997021348,
          62.507783758715206,
          57.3993117594817,
          51.96348952067967,
          47.55979872466226,
          42.306459680773486,
          37.42250044403435,
          33.868173606393896,
          31.1141098434358,
          28.962290707517766,
          27.647812134036343,
          26.786928218223753,
          25.92566221041614,
          24.91997622233568,
          24.154244296731143,
          24.443728361488446,
          25.500915105830884,
          26.750366800118186,
          28.66392871910858,
          30.14756395914415
         ],
         "yaxis": "y"
        },
        {
         "hovertemplate": "<b>%{hovertext}</b><br><br>Year=%{x}<br>Ratio=%{y}<br>Karbon salınımı (kgCO2)=%{marker.color}<extra></extra>",
         "hovertext": [
          2004,
          2005,
          2006,
          2007,
          2008,
          2009,
          2010,
          2011,
          2012,
          2013,
          2014,
          2015,
          2016,
          2017,
          2018,
          2019,
          2020,
          2021,
          2022,
          2023,
          2024
         ],
         "legendgroup": "",
         "marker": {
          "color": [
           1796328465,
           2852375655,
           3449119350,
           4136175390,
           5016207165,
           5720141985,
           6568577010,
           7382287320,
           8084108895,
           8725541040,
           9233793450,
           9676179660,
           10055764215,
           10457147130,
           10635799005,
           10558766355,
           10894690770,
           11151217875,
           11337600195,
           11539611015,
           11695381860
          ],
          "coloraxis": "coloraxis",
          "size": [
           1796328465,
           2852375655,
           3449119350,
           4136175390,
           5016207165,
           5720141985,
           6568577010,
           7382287320,
           8084108895,
           8725541040,
           9233793450,
           9676179660,
           10055764215,
           10457147130,
           10635799005,
           10558766355,
           10894690770,
           11151217875,
           11337600195,
           11539611015,
           11695381860
          ],
          "sizemode": "area",
          "sizeref": 29238454.65,
          "symbol": "circle"
         },
         "mode": "markers",
         "name": "",
         "orientation": "v",
         "showlegend": false,
         "type": "scatter",
         "x": [
          2004,
          2005,
          2006,
          2007,
          2008,
          2009,
          2010,
          2011,
          2012,
          2013,
          2014,
          2015,
          2016,
          2017,
          2018,
          2019,
          2020,
          2021,
          2022,
          2023,
          2024
         ],
         "xaxis": "x",
         "y": [
          14.685488589818608,
          21.81504639473942,
          24.797133752983232,
          28.215111007831084,
          32.584721473484485,
          35.59996921326356,
          38.43720402043139,
          40.1730975947451,
          41.26713589917764,
          41.494700031441454,
          41.354890968323424,
          40.342884545085305,
          39.226292494485335,
          38.35867762470154,
          37.87421389735115,
          37.28456154974678,
          36.72038281275706,
          35.92041187605633,
          35.079119219989806,
          33.471560003347975,
          32.02654950468397
         ],
         "yaxis": "y"
        },
        {
         "hovertemplate": "<b>%{hovertext}</b><br><br>Year=%{x}<br>Ratio.1=%{y}<br>Carbon emission (kgCO2)=%{marker.color}<extra></extra>",
         "hovertext": [
          2004,
          2005,
          2006,
          2007,
          2008,
          2009,
          2010,
          2011,
          2012,
          2013,
          2014,
          2015,
          2016,
          2017,
          2018,
          2019,
          2020,
          2021,
          2022,
          2023,
          2024
         ],
         "legendgroup": "",
         "marker": {
          "color": [
           0,
           0,
           0,
           0,
           0,
           0,
           0,
           44780.399999999994,
           326523.75,
           658645.0499999999,
           768730.2,
           1054205.25,
           1199741.55,
           1418046,
           1776289.2,
           2194239.6,
           5218782.45,
           11693281.95,
           27151849.2,
           149348231.54999998,
           309540783.3
          ],
          "coloraxis": "coloraxis",
          "size": [
           0,
           0,
           0,
           0,
           0,
           0,
           0,
           44780.399999999994,
           326523.75,
           658645.0499999999,
           768730.2,
           1054205.25,
           1199741.55,
           1418046,
           1776289.2,
           2194239.6,
           5218782.45,
           11693281.95,
           27151849.2,
           149348231.54999998,
           309540783.3
          ],
          "sizemode": "area",
          "sizeref": 773851.95825,
          "symbol": "circle"
         },
         "mode": "markers",
         "name": "",
         "orientation": "h",
         "showlegend": false,
         "type": "scatter",
         "x": [
          2004,
          2005,
          2006,
          2007,
          2008,
          2009,
          2010,
          2011,
          2012,
          2013,
          2014,
          2015,
          2016,
          2017,
          2018,
          2019,
          2020,
          2021,
          2022,
          2023,
          2024
         ],
         "xaxis": "x",
         "y": [
          "-",
          "-",
          "-",
          "-",
          "-",
          "-",
          "-",
          0.0002958174737163093,
          0.002023384544232631,
          0.003802271949045678,
          0.004179382759944674,
          0.0053355559465148765,
          0.005681216766428126,
          0.006314401704622591,
          0.007678540174009271,
          0.00940570576025096,
          0.02135270818680543,
          0.04572428337382028,
          0.10198080473451071,
          0.5258675207773612,
          1.028975658819067
         ],
         "yaxis": "y"
        }
       ],
       "layout": {
        "autosize": true,
        "coloraxis": {
         "colorbar": {
          "title": {
           "text": "Carbon Emission (kgCO2)"
          }
         },
         "colorscale": [
          [
           0,
           "#440154"
          ],
          [
           0.1111111111111111,
           "#482878"
          ],
          [
           0.2222222222222222,
           "#3e4989"
          ],
          [
           0.3333333333333333,
           "#31688e"
          ],
          [
           0.4444444444444444,
           "#26828e"
          ],
          [
           0.5555555555555556,
           "#1f9e89"
          ],
          [
           0.6666666666666666,
           "#35b779"
          ],
          [
           0.7777777777777778,
           "#6ece58"
          ],
          [
           0.8888888888888888,
           "#b5de2b"
          ],
          [
           1,
           "#fde725"
          ]
         ]
        },
        "legend": {
         "itemsizing": "constant",
         "tracegroupgap": 0
        },
        "template": {
         "data": {
          "bar": [
           {
            "error_x": {
             "color": "#2a3f5f"
            },
            "error_y": {
             "color": "#2a3f5f"
            },
            "marker": {
             "line": {
              "color": "#E5ECF6",
              "width": 0.5
             },
             "pattern": {
              "fillmode": "overlay",
              "size": 10,
              "solidity": 0.2
             }
            },
            "type": "bar"
           }
          ],
          "barpolar": [
           {
            "marker": {
             "line": {
              "color": "#E5ECF6",
              "width": 0.5
             },
             "pattern": {
              "fillmode": "overlay",
              "size": 10,
              "solidity": 0.2
             }
            },
            "type": "barpolar"
           }
          ],
          "carpet": [
           {
            "aaxis": {
             "endlinecolor": "#2a3f5f",
             "gridcolor": "white",
             "linecolor": "white",
             "minorgridcolor": "white",
             "startlinecolor": "#2a3f5f"
            },
            "baxis": {
             "endlinecolor": "#2a3f5f",
             "gridcolor": "white",
             "linecolor": "white",
             "minorgridcolor": "white",
             "startlinecolor": "#2a3f5f"
            },
            "type": "carpet"
           }
          ],
          "choropleth": [
           {
            "colorbar": {
             "outlinewidth": 0,
             "ticks": ""
            },
            "type": "choropleth"
           }
          ],
          "contour": [
           {
            "colorbar": {
             "outlinewidth": 0,
             "ticks": ""
            },
            "colorscale": [
             [
              0,
              "#0d0887"
             ],
             [
              0.1111111111111111,
              "#46039f"
             ],
             [
              0.2222222222222222,
              "#7201a8"
             ],
             [
              0.3333333333333333,
              "#9c179e"
             ],
             [
              0.4444444444444444,
              "#bd3786"
             ],
             [
              0.5555555555555556,
              "#d8576b"
             ],
             [
              0.6666666666666666,
              "#ed7953"
             ],
             [
              0.7777777777777778,
              "#fb9f3a"
             ],
             [
              0.8888888888888888,
              "#fdca26"
             ],
             [
              1,
              "#f0f921"
             ]
            ],
            "type": "contour"
           }
          ],
          "contourcarpet": [
           {
            "colorbar": {
             "outlinewidth": 0,
             "ticks": ""
            },
            "type": "contourcarpet"
           }
          ],
          "heatmap": [
           {
            "colorbar": {
             "outlinewidth": 0,
             "ticks": ""
            },
            "colorscale": [
             [
              0,
              "#0d0887"
             ],
             [
              0.1111111111111111,
              "#46039f"
             ],
             [
              0.2222222222222222,
              "#7201a8"
             ],
             [
              0.3333333333333333,
              "#9c179e"
             ],
             [
              0.4444444444444444,
              "#bd3786"
             ],
             [
              0.5555555555555556,
              "#d8576b"
             ],
             [
              0.6666666666666666,
              "#ed7953"
             ],
             [
              0.7777777777777778,
              "#fb9f3a"
             ],
             [
              0.8888888888888888,
              "#fdca26"
             ],
             [
              1,
              "#f0f921"
             ]
            ],
            "type": "heatmap"
           }
          ],
          "heatmapgl": [
           {
            "colorbar": {
             "outlinewidth": 0,
             "ticks": ""
            },
            "colorscale": [
             [
              0,
              "#0d0887"
             ],
             [
              0.1111111111111111,
              "#46039f"
             ],
             [
              0.2222222222222222,
              "#7201a8"
             ],
             [
              0.3333333333333333,
              "#9c179e"
             ],
             [
              0.4444444444444444,
              "#bd3786"
             ],
             [
              0.5555555555555556,
              "#d8576b"
             ],
             [
              0.6666666666666666,
              "#ed7953"
             ],
             [
              0.7777777777777778,
              "#fb9f3a"
             ],
             [
              0.8888888888888888,
              "#fdca26"
             ],
             [
              1,
              "#f0f921"
             ]
            ],
            "type": "heatmapgl"
           }
          ],
          "histogram": [
           {
            "marker": {
             "pattern": {
              "fillmode": "overlay",
              "size": 10,
              "solidity": 0.2
             }
            },
            "type": "histogram"
           }
          ],
          "histogram2d": [
           {
            "colorbar": {
             "outlinewidth": 0,
             "ticks": ""
            },
            "colorscale": [
             [
              0,
              "#0d0887"
             ],
             [
              0.1111111111111111,
              "#46039f"
             ],
             [
              0.2222222222222222,
              "#7201a8"
             ],
             [
              0.3333333333333333,
              "#9c179e"
             ],
             [
              0.4444444444444444,
              "#bd3786"
             ],
             [
              0.5555555555555556,
              "#d8576b"
             ],
             [
              0.6666666666666666,
              "#ed7953"
             ],
             [
              0.7777777777777778,
              "#fb9f3a"
             ],
             [
              0.8888888888888888,
              "#fdca26"
             ],
             [
              1,
              "#f0f921"
             ]
            ],
            "type": "histogram2d"
           }
          ],
          "histogram2dcontour": [
           {
            "colorbar": {
             "outlinewidth": 0,
             "ticks": ""
            },
            "colorscale": [
             [
              0,
              "#0d0887"
             ],
             [
              0.1111111111111111,
              "#46039f"
             ],
             [
              0.2222222222222222,
              "#7201a8"
             ],
             [
              0.3333333333333333,
              "#9c179e"
             ],
             [
              0.4444444444444444,
              "#bd3786"
             ],
             [
              0.5555555555555556,
              "#d8576b"
             ],
             [
              0.6666666666666666,
              "#ed7953"
             ],
             [
              0.7777777777777778,
              "#fb9f3a"
             ],
             [
              0.8888888888888888,
              "#fdca26"
             ],
             [
              1,
              "#f0f921"
             ]
            ],
            "type": "histogram2dcontour"
           }
          ],
          "mesh3d": [
           {
            "colorbar": {
             "outlinewidth": 0,
             "ticks": ""
            },
            "type": "mesh3d"
           }
          ],
          "parcoords": [
           {
            "line": {
             "colorbar": {
              "outlinewidth": 0,
              "ticks": ""
             }
            },
            "type": "parcoords"
           }
          ],
          "pie": [
           {
            "automargin": true,
            "type": "pie"
           }
          ],
          "scatter": [
           {
            "fillpattern": {
             "fillmode": "overlay",
             "size": 10,
             "solidity": 0.2
            },
            "type": "scatter"
           }
          ],
          "scatter3d": [
           {
            "line": {
             "colorbar": {
              "outlinewidth": 0,
              "ticks": ""
             }
            },
            "marker": {
             "colorbar": {
              "outlinewidth": 0,
              "ticks": ""
             }
            },
            "type": "scatter3d"
           }
          ],
          "scattercarpet": [
           {
            "marker": {
             "colorbar": {
              "outlinewidth": 0,
              "ticks": ""
             }
            },
            "type": "scattercarpet"
           }
          ],
          "scattergeo": [
           {
            "marker": {
             "colorbar": {
              "outlinewidth": 0,
              "ticks": ""
             }
            },
            "type": "scattergeo"
           }
          ],
          "scattergl": [
           {
            "marker": {
             "colorbar": {
              "outlinewidth": 0,
              "ticks": ""
             }
            },
            "type": "scattergl"
           }
          ],
          "scattermapbox": [
           {
            "marker": {
             "colorbar": {
              "outlinewidth": 0,
              "ticks": ""
             }
            },
            "type": "scattermapbox"
           }
          ],
          "scatterpolar": [
           {
            "marker": {
             "colorbar": {
              "outlinewidth": 0,
              "ticks": ""
             }
            },
            "type": "scatterpolar"
           }
          ],
          "scatterpolargl": [
           {
            "marker": {
             "colorbar": {
              "outlinewidth": 0,
              "ticks": ""
             }
            },
            "type": "scatterpolargl"
           }
          ],
          "scatterternary": [
           {
            "marker": {
             "colorbar": {
              "outlinewidth": 0,
              "ticks": ""
             }
            },
            "type": "scatterternary"
           }
          ],
          "surface": [
           {
            "colorbar": {
             "outlinewidth": 0,
             "ticks": ""
            },
            "colorscale": [
             [
              0,
              "#0d0887"
             ],
             [
              0.1111111111111111,
              "#46039f"
             ],
             [
              0.2222222222222222,
              "#7201a8"
             ],
             [
              0.3333333333333333,
              "#9c179e"
             ],
             [
              0.4444444444444444,
              "#bd3786"
             ],
             [
              0.5555555555555556,
              "#d8576b"
             ],
             [
              0.6666666666666666,
              "#ed7953"
             ],
             [
              0.7777777777777778,
              "#fb9f3a"
             ],
             [
              0.8888888888888888,
              "#fdca26"
             ],
             [
              1,
              "#f0f921"
             ]
            ],
            "type": "surface"
           }
          ],
          "table": [
           {
            "cells": {
             "fill": {
              "color": "#EBF0F8"
             },
             "line": {
              "color": "white"
             }
            },
            "header": {
             "fill": {
              "color": "#C8D4E3"
             },
             "line": {
              "color": "white"
             }
            },
            "type": "table"
           }
          ]
         },
         "layout": {
          "annotationdefaults": {
           "arrowcolor": "#2a3f5f",
           "arrowhead": 0,
           "arrowwidth": 1
          },
          "autotypenumbers": "strict",
          "coloraxis": {
           "colorbar": {
            "outlinewidth": 0,
            "ticks": ""
           }
          },
          "colorscale": {
           "diverging": [
            [
             0,
             "#8e0152"
            ],
            [
             0.1,
             "#c51b7d"
            ],
            [
             0.2,
             "#de77ae"
            ],
            [
             0.3,
             "#f1b6da"
            ],
            [
             0.4,
             "#fde0ef"
            ],
            [
             0.5,
             "#f7f7f7"
            ],
            [
             0.6,
             "#e6f5d0"
            ],
            [
             0.7,
             "#b8e186"
            ],
            [
             0.8,
             "#7fbc41"
            ],
            [
             0.9,
             "#4d9221"
            ],
            [
             1,
             "#276419"
            ]
           ],
           "sequential": [
            [
             0,
             "#0d0887"
            ],
            [
             0.1111111111111111,
             "#46039f"
            ],
            [
             0.2222222222222222,
             "#7201a8"
            ],
            [
             0.3333333333333333,
             "#9c179e"
            ],
            [
             0.4444444444444444,
             "#bd3786"
            ],
            [
             0.5555555555555556,
             "#d8576b"
            ],
            [
             0.6666666666666666,
             "#ed7953"
            ],
            [
             0.7777777777777778,
             "#fb9f3a"
            ],
            [
             0.8888888888888888,
             "#fdca26"
            ],
            [
             1,
             "#f0f921"
            ]
           ],
           "sequentialminus": [
            [
             0,
             "#0d0887"
            ],
            [
             0.1111111111111111,
             "#46039f"
            ],
            [
             0.2222222222222222,
             "#7201a8"
            ],
            [
             0.3333333333333333,
             "#9c179e"
            ],
            [
             0.4444444444444444,
             "#bd3786"
            ],
            [
             0.5555555555555556,
             "#d8576b"
            ],
            [
             0.6666666666666666,
             "#ed7953"
            ],
            [
             0.7777777777777778,
             "#fb9f3a"
            ],
            [
             0.8888888888888888,
             "#fdca26"
            ],
            [
             1,
             "#f0f921"
            ]
           ]
          },
          "colorway": [
           "#636efa",
           "#EF553B",
           "#00cc96",
           "#ab63fa",
           "#FFA15A",
           "#19d3f3",
           "#FF6692",
           "#B6E880",
           "#FF97FF",
           "#FECB52"
          ],
          "font": {
           "color": "#2a3f5f"
          },
          "geo": {
           "bgcolor": "white",
           "lakecolor": "white",
           "landcolor": "#E5ECF6",
           "showlakes": true,
           "showland": true,
           "subunitcolor": "white"
          },
          "hoverlabel": {
           "align": "left"
          },
          "hovermode": "closest",
          "mapbox": {
           "style": "light"
          },
          "paper_bgcolor": "white",
          "plot_bgcolor": "#E5ECF6",
          "polar": {
           "angularaxis": {
            "gridcolor": "white",
            "linecolor": "white",
            "ticks": ""
           },
           "bgcolor": "#E5ECF6",
           "radialaxis": {
            "gridcolor": "white",
            "linecolor": "white",
            "ticks": ""
           }
          },
          "scene": {
           "xaxis": {
            "backgroundcolor": "#E5ECF6",
            "gridcolor": "white",
            "gridwidth": 2,
            "linecolor": "white",
            "showbackground": true,
            "ticks": "",
            "zerolinecolor": "white"
           },
           "yaxis": {
            "backgroundcolor": "#E5ECF6",
            "gridcolor": "white",
            "gridwidth": 2,
            "linecolor": "white",
            "showbackground": true,
            "ticks": "",
            "zerolinecolor": "white"
           },
           "zaxis": {
            "backgroundcolor": "#E5ECF6",
            "gridcolor": "white",
            "gridwidth": 2,
            "linecolor": "white",
            "showbackground": true,
            "ticks": "",
            "zerolinecolor": "white"
           }
          },
          "shapedefaults": {
           "line": {
            "color": "#2a3f5f"
           }
          },
          "ternary": {
           "aaxis": {
            "gridcolor": "white",
            "linecolor": "white",
            "ticks": ""
           },
           "baxis": {
            "gridcolor": "white",
            "linecolor": "white",
            "ticks": ""
           },
           "bgcolor": "#E5ECF6",
           "caxis": {
            "gridcolor": "white",
            "linecolor": "white",
            "ticks": ""
           }
          },
          "title": {
           "x": 0.05
          },
          "xaxis": {
           "automargin": true,
           "gridcolor": "white",
           "linecolor": "white",
           "ticks": "",
           "title": {
            "standoff": 15
           },
           "zerolinecolor": "white",
           "zerolinewidth": 2
          },
          "yaxis": {
           "automargin": true,
           "gridcolor": "white",
           "linecolor": "white",
           "ticks": "",
           "title": {
            "standoff": 15
           },
           "zerolinecolor": "white",
           "zerolinewidth": 2
          }
         }
        },
        "title": {
         "text": "Diesel Karbon Emisyonu ve Ratio"
        },
        "updatemenus": [
         {
          "buttons": [
           {
            "args": [
             {
              "visible": [
               true,
               false,
               false,
               false
              ]
             },
             {
              "title": "Diesel Carbon Emission and Ratio"
             }
            ],
            "label": "Diesel",
            "method": "update"
           },
           {
            "args": [
             {
              "visible": [
               false,
               true,
               false,
               false
              ]
             },
             {
              "title": "Gasoline Carbon Emission and Ratio"
             }
            ],
            "label": "Gasoline",
            "method": "update"
           },
           {
            "args": [
             {
              "visible": [
               false,
               false,
               true,
               false
              ]
             },
             {
              "title": "LPG Carbon Emission and Ratio"
             }
            ],
            "label": "LPG",
            "method": "update"
           },
           {
            "args": [
             {
              "visible": [
               false,
               false,
               false,
               true
              ]
             },
             {
              "title": "Electric Carbon Emission and Ratio"
             }
            ],
            "label": "Electric",
            "method": "update"
           }
          ],
          "direction": "down",
          "showactive": true,
          "x": 0.05,
          "xanchor": "left",
          "y": 1.15,
          "yanchor": "top"
         }
        ],
        "xaxis": {
         "anchor": "y",
         "autorange": true,
         "domain": [
          0,
          1
         ],
         "range": [
          2002.416044797438,
          2025.623697276609
         ],
         "title": {
          "text": "Year"
         },
         "type": "linear"
        },
        "yaxis": {
         "anchor": "x",
         "autorange": true,
         "domain": [
          0,
          1
         ],
         "range": [
          -12.945517060867855,
          88.43569784915367
         ],
         "title": {
          "text": "Diesel Ratio"
         },
         "type": "linear"
        }
       }
      },
      "image/png": "[encoded data removed]",
      "text/html": [
       "<div>                            <div id=\"b8f9ceca-8acb-427b-a515-f16cd62e46f5\" class=\"plotly-graph-div\" style=\"height:525px; width:100%;\"></div>            <script type=\"text/javascript\">                require([\"plotly\"], function(Plotly) {                    window.PLOTLYENV=window.PLOTLYENV || {};                                    if (document.getElementById(\"b8f9ceca-8acb-427b-a515-f16cd62e46f5\")) {                    Plotly.newPlot(                        \"b8f9ceca-8acb-427b-a515-f16cd62e46f5\",                        [{\"hovertemplate\":\"\\u003cb\\u003e%{hovertext}\\u003c\\u002fb\\u003e\\u003cbr\\u003e\\u003cbr\\u003eYear=%{x}\\u003cbr\\u003eDiesel Ratio=%{y}\\u003cbr\\u003eCarbon Emission (kgCO2)=%{marker.color}\\u003cextra\\u003e\\u003c\\u002fextra\\u003e\",\"hovertext\":[2004.0,2005.0,2006.0,2007.0,2008.0,2009.0,2010.0,2011.0,2012.0,2013.0,2014.0,2015.0,2016.0,2017.0,2018.0,2019.0,2020.0,2021.0,2022.0,2023.0,2024.0],\"legendgroup\":\"\",\"marker\":{\"color\":[609341148.0000001,951816204.0000002,1408111128.0000002,1842637752.0000002,2285917524.0000005,2681714664.0000005,3332493972.0000005,4235554008.000001,5068108872.000001,6023268108.000001,6953518620.000001,8070433812.000002,9174698064.000002,10266207660.000002,11019619980.000002,11504550168.000002,12094626672.000002,12443032836.000002,12691644912.000002,13086672624.000002,13342877676.000002],\"coloraxis\":\"coloraxis\",\"size\":[609341148.0000001,951816204.0000002,1408111128.0000002,1842637752.0000002,2285917524.0000005,2681714664.0000005,3332493972.0000005,4235554008.000001,5068108872.000001,6023268108.000001,6953518620.000001,8070433812.000002,9174698064.000002,10266207660.000002,11019619980.000002,11504550168.000002,12094626672.000002,12443032836.000002,12691644912.000002,13086672624.000002,13342877676.000002],\"sizemode\":\"area\",\"sizeref\":33357194.190000005,\"symbol\":\"circle\"},\"mode\":\"markers\",\"name\":\"\",\"orientation\":\"v\",\"showlegend\":false,\"x\":[2004,2005,2006,2007,2008,2009,2010,2011,2012,2013,2014,2015,2016,2017,2018,2019,2020,2021,2022,2023,2024],\"xaxis\":\"x\",\"y\":[4.677933649850753,6.835864047346626,9.506509697456046,11.803578282105684,13.944084592585968,15.672788866704144,18.312210349241642,21.644397568331065,24.294558540850687,26.89820887140059,29.244368611415293,31.597360627959993,33.60816992545855,35.36318361499165,36.84945141185931,38.148406840603435,38.280329071418286,37.63883361125166,36.87536757100112,35.645517607295226,34.31121933162791],\"yaxis\":\"y\",\"type\":\"scatter\"},{\"hovertemplate\":\"\\u003cb\\u003e%{hovertext}\\u003c\\u002fb\\u003e\\u003cbr\\u003e\\u003cbr\\u003eYear=%{x}\\u003cbr\\u003eGasoline Ratio=%{y}\\u003cbr\\u003eCarbon Emission (kgCO2)=%{marker.color}\\u003cextra\\u003e\\u003c\\u002fextra\\u003e\",\"hovertext\":[2004.0,2005.0,2006.0,2007.0,2008.0,2009.0,2010.0,2011.0,2012.0,2013.0,2014.0,2015.0,2016.0,2017.0,2018.0,2019.0,2020.0,2021.0,2022.0,2023.0,2024.0],\"legendgroup\":\"\",\"marker\":{\"color\":[11261211192,10763955972,10640593656,10297905156,9790047036,9352381500,8848124208,8416149588,8119786752,8007226920,7914276216,8115639840,8403994368,8649768204,8564443272,8371487124,8875650168,9688616784,10581012288,12094166700,13473533304],\"coloraxis\":\"coloraxis\",\"size\":[11261211192,10763955972,10640593656,10297905156,9790047036,9352381500,8848124208,8416149588,8119786752,8007226920,7914276216,8115639840,8403994368,8649768204,8564443272,8371487124,8875650168,9688616784,10581012288,12094166700,13473533304],\"sizemode\":\"area\",\"sizeref\":33683833.26,\"symbol\":\"circle\"},\"mode\":\"markers\",\"name\":\"\",\"orientation\":\"v\",\"showlegend\":false,\"x\":[2004,2005,2006,2007,2008,2009,2010,2011,2012,2013,2014,2015,2016,2017,2018,2019,2020,2021,2022,2023,2024],\"xaxis\":\"x\",\"y\":[75.22509277021872,67.26610997021348,62.507783758715206,57.3993117594817,51.96348952067967,47.55979872466226,42.306459680773486,37.42250044403435,33.868173606393896,31.1141098434358,28.962290707517766,27.647812134036343,26.786928218223753,25.92566221041614,24.91997622233568,24.154244296731143,24.443728361488446,25.500915105830884,26.750366800118186,28.66392871910858,30.14756395914415],\"yaxis\":\"y\",\"type\":\"scatter\"},{\"hovertemplate\":\"\\u003cb\\u003e%{hovertext}\\u003c\\u002fb\\u003e\\u003cbr\\u003e\\u003cbr\\u003eYear=%{x}\\u003cbr\\u003eRatio=%{y}\\u003cbr\\u003eKarbon salınımı (kgCO2)=%{marker.color}\\u003cextra\\u003e\\u003c\\u002fextra\\u003e\",\"hovertext\":[2004.0,2005.0,2006.0,2007.0,2008.0,2009.0,2010.0,2011.0,2012.0,2013.0,2014.0,2015.0,2016.0,2017.0,2018.0,2019.0,2020.0,2021.0,2022.0,2023.0,2024.0],\"legendgroup\":\"\",\"marker\":{\"color\":[1796328465,2852375655,3449119350,4136175390,5016207165,5720141985,6568577010,7382287320,8084108895,8725541040,9233793450,9676179660,10055764215,10457147130,10635799005,10558766355,10894690770,11151217875,11337600195,11539611015,11695381860],\"coloraxis\":\"coloraxis\",\"size\":[1796328465,2852375655,3449119350,4136175390,5016207165,5720141985,6568577010,7382287320,8084108895,8725541040,9233793450,9676179660,10055764215,10457147130,10635799005,10558766355,10894690770,11151217875,11337600195,11539611015,11695381860],\"sizemode\":\"area\",\"sizeref\":29238454.65,\"symbol\":\"circle\"},\"mode\":\"markers\",\"name\":\"\",\"orientation\":\"v\",\"showlegend\":false,\"x\":[2004,2005,2006,2007,2008,2009,2010,2011,2012,2013,2014,2015,2016,2017,2018,2019,2020,2021,2022,2023,2024],\"xaxis\":\"x\",\"y\":[14.685488589818608,21.81504639473942,24.797133752983232,28.215111007831084,32.584721473484485,35.59996921326356,38.43720402043139,40.1730975947451,41.26713589917764,41.494700031441454,41.354890968323424,40.342884545085305,39.226292494485335,38.35867762470154,37.87421389735115,37.28456154974678,36.72038281275706,35.92041187605633,35.079119219989806,33.471560003347975,32.02654950468397],\"yaxis\":\"y\",\"type\":\"scatter\"},{\"hovertemplate\":\"\\u003cb\\u003e%{hovertext}\\u003c\\u002fb\\u003e\\u003cbr\\u003e\\u003cbr\\u003eYear=%{x}\\u003cbr\\u003eRatio.1=%{y}\\u003cbr\\u003eCarbon emission (kgCO2)=%{marker.color}\\u003cextra\\u003e\\u003c\\u002fextra\\u003e\",\"hovertext\":[2004.0,2005.0,2006.0,2007.0,2008.0,2009.0,2010.0,2011.0,2012.0,2013.0,2014.0,2015.0,2016.0,2017.0,2018.0,2019.0,2020.0,2021.0,2022.0,2023.0,2024.0],\"legendgroup\":\"\",\"marker\":{\"color\":[0.0,0.0,0.0,0.0,0.0,0.0,0.0,44780.399999999994,326523.75,658645.0499999999,768730.2,1054205.25,1199741.55,1418046.0,1776289.2,2194239.6,5218782.45,11693281.95,27151849.2,149348231.54999998,309540783.3],\"coloraxis\":\"coloraxis\",\"size\":[0.0,0.0,0.0,0.0,0.0,0.0,0.0,44780.399999999994,326523.75,658645.0499999999,768730.2,1054205.25,1199741.55,1418046.0,1776289.2,2194239.6,5218782.45,11693281.95,27151849.2,149348231.54999998,309540783.3],\"sizemode\":\"area\",\"sizeref\":773851.95825,\"symbol\":\"circle\"},\"mode\":\"markers\",\"name\":\"\",\"orientation\":\"h\",\"showlegend\":false,\"x\":[2004,2005,2006,2007,2008,2009,2010,2011,2012,2013,2014,2015,2016,2017,2018,2019,2020,2021,2022,2023,2024],\"xaxis\":\"x\",\"y\":[\"-\",\"-\",\"-\",\"-\",\"-\",\"-\",\"-\",0.0002958174737163093,0.002023384544232631,0.003802271949045678,0.004179382759944674,0.0053355559465148765,0.005681216766428126,0.006314401704622591,0.007678540174009271,0.00940570576025096,0.02135270818680543,0.04572428337382028,0.10198080473451071,0.5258675207773612,1.028975658819067],\"yaxis\":\"y\",\"type\":\"scatter\"}],                        {\"template\":{\"data\":{\"histogram2dcontour\":[{\"type\":\"histogram2dcontour\",\"colorbar\":{\"outlinewidth\":0,\"ticks\":\"\"},\"colorscale\":[[0.0,\"#0d0887\"],[0.1111111111111111,\"#46039f\"],[0.2222222222222222,\"#7201a8\"],[0.3333333333333333,\"#9c179e\"],[0.4444444444444444,\"#bd3786\"],[0.5555555555555556,\"#d8576b\"],[0.6666666666666666,\"#ed7953\"],[0.7777777777777778,\"#fb9f3a\"],[0.8888888888888888,\"#fdca26\"],[1.0,\"#f0f921\"]]}],\"choropleth\":[{\"type\":\"choropleth\",\"colorbar\":{\"outlinewidth\":0,\"ticks\":\"\"}}],\"histogram2d\":[{\"type\":\"histogram2d\",\"colorbar\":{\"outlinewidth\":0,\"ticks\":\"\"},\"colorscale\":[[0.0,\"#0d0887\"],[0.1111111111111111,\"#46039f\"],[0.2222222222222222,\"#7201a8\"],[0.3333333333333333,\"#9c179e\"],[0.4444444444444444,\"#bd3786\"],[0.5555555555555556,\"#d8576b\"],[0.6666666666666666,\"#ed7953\"],[0.7777777777777778,\"#fb9f3a\"],[0.8888888888888888,\"#fdca26\"],[1.0,\"#f0f921\"]]}],\"heatmap\":[{\"type\":\"heatmap\",\"colorbar\":{\"outlinewidth\":0,\"ticks\":\"\"},\"colorscale\":[[0.0,\"#0d0887\"],[0.1111111111111111,\"#46039f\"],[0.2222222222222222,\"#7201a8\"],[0.3333333333333333,\"#9c179e\"],[0.4444444444444444,\"#bd3786\"],[0.5555555555555556,\"#d8576b\"],[0.6666666666666666,\"#ed7953\"],[0.7777777777777778,\"#fb9f3a\"],[0.8888888888888888,\"#fdca26\"],[1.0,\"#f0f921\"]]}],\"heatmapgl\":[{\"type\":\"heatmapgl\",\"colorbar\":{\"outlinewidth\":0,\"ticks\":\"\"},\"colorscale\":[[0.0,\"#0d0887\"],[0.1111111111111111,\"#46039f\"],[0.2222222222222222,\"#7201a8\"],[0.3333333333333333,\"#9c179e\"],[0.4444444444444444,\"#bd3786\"],[0.5555555555555556,\"#d8576b\"],[0.6666666666666666,\"#ed7953\"],[0.7777777777777778,\"#fb9f3a\"],[0.8888888888888888,\"#fdca26\"],[1.0,\"#f0f921\"]]}],\"contourcarpet\":[{\"type\":\"contourcarpet\",\"colorbar\":{\"outlinewidth\":0,\"ticks\":\"\"}}],\"contour\":[{\"type\":\"contour\",\"colorbar\":{\"outlinewidth\":0,\"ticks\":\"\"},\"colorscale\":[[0.0,\"#0d0887\"],[0.1111111111111111,\"#46039f\"],[0.2222222222222222,\"#7201a8\"],[0.3333333333333333,\"#9c179e\"],[0.4444444444444444,\"#bd3786\"],[0.5555555555555556,\"#d8576b\"],[0.6666666666666666,\"#ed7953\"],[0.7777777777777778,\"#fb9f3a\"],[0.8888888888888888,\"#fdca26\"],[1.0,\"#f0f921\"]]}],\"surface\":[{\"type\":\"surface\",\"colorbar\":{\"outlinewidth\":0,\"ticks\":\"\"},\"colorscale\":[[0.0,\"#0d0887\"],[0.1111111111111111,\"#46039f\"],[0.2222222222222222,\"#7201a8\"],[0.3333333333333333,\"#9c179e\"],[0.4444444444444444,\"#bd3786\"],[0.5555555555555556,\"#d8576b\"],[0.6666666666666666,\"#ed7953\"],[0.7777777777777778,\"#fb9f3a\"],[0.8888888888888888,\"#fdca26\"],[1.0,\"#f0f921\"]]}],\"mesh3d\":[{\"type\":\"mesh3d\",\"colorbar\":{\"outlinewidth\":0,\"ticks\":\"\"}}],\"scatter\":[{\"fillpattern\":{\"fillmode\":\"overlay\",\"size\":10,\"solidity\":0.2},\"type\":\"scatter\"}],\"parcoords\":[{\"type\":\"parcoords\",\"line\":{\"colorbar\":{\"outlinewidth\":0,\"ticks\":\"\"}}}],\"scatterpolargl\":[{\"type\":\"scatterpolargl\",\"marker\":{\"colorbar\":{\"outlinewidth\":0,\"ticks\":\"\"}}}],\"bar\":[{\"error_x\":{\"color\":\"#2a3f5f\"},\"error_y\":{\"color\":\"#2a3f5f\"},\"marker\":{\"line\":{\"color\":\"#E5ECF6\",\"width\":0.5},\"pattern\":{\"fillmode\":\"overlay\",\"size\":10,\"solidity\":0.2}},\"type\":\"bar\"}],\"scattergeo\":[{\"type\":\"scattergeo\",\"marker\":{\"colorbar\":{\"outlinewidth\":0,\"ticks\":\"\"}}}],\"scatterpolar\":[{\"type\":\"scatterpolar\",\"marker\":{\"colorbar\":{\"outlinewidth\":0,\"ticks\":\"\"}}}],\"histogram\":[{\"marker\":{\"pattern\":{\"fillmode\":\"overlay\",\"size\":10,\"solidity\":0.2}},\"type\":\"histogram\"}],\"scattergl\":[{\"type\":\"scattergl\",\"marker\":{\"colorbar\":{\"outlinewidth\":0,\"ticks\":\"\"}}}],\"scatter3d\":[{\"type\":\"scatter3d\",\"line\":{\"colorbar\":{\"outlinewidth\":0,\"ticks\":\"\"}},\"marker\":{\"colorbar\":{\"outlinewidth\":0,\"ticks\":\"\"}}}],\"scattermapbox\":[{\"type\":\"scattermapbox\",\"marker\":{\"colorbar\":{\"outlinewidth\":0,\"ticks\":\"\"}}}],\"scatterternary\":[{\"type\":\"scatterternary\",\"marker\":{\"colorbar\":{\"outlinewidth\":0,\"ticks\":\"\"}}}],\"scattercarpet\":[{\"type\":\"scattercarpet\",\"marker\":{\"colorbar\":{\"outlinewidth\":0,\"ticks\":\"\"}}}],\"carpet\":[{\"aaxis\":{\"endlinecolor\":\"#2a3f5f\",\"gridcolor\":\"white\",\"linecolor\":\"white\",\"minorgridcolor\":\"white\",\"startlinecolor\":\"#2a3f5f\"},\"baxis\":{\"endlinecolor\":\"#2a3f5f\",\"gridcolor\":\"white\",\"linecolor\":\"white\",\"minorgridcolor\":\"white\",\"startlinecolor\":\"#2a3f5f\"},\"type\":\"carpet\"}],\"table\":[{\"cells\":{\"fill\":{\"color\":\"#EBF0F8\"},\"line\":{\"color\":\"white\"}},\"header\":{\"fill\":{\"color\":\"#C8D4E3\"},\"line\":{\"color\":\"white\"}},\"type\":\"table\"}],\"barpolar\":[{\"marker\":{\"line\":{\"color\":\"#E5ECF6\",\"width\":0.5},\"pattern\":{\"fillmode\":\"overlay\",\"size\":10,\"solidity\":0.2}},\"type\":\"barpolar\"}],\"pie\":[{\"automargin\":true,\"type\":\"pie\"}]},\"layout\":{\"autotypenumbers\":\"strict\",\"colorway\":[\"#636efa\",\"#EF553B\",\"#00cc96\",\"#ab63fa\",\"#FFA15A\",\"#19d3f3\",\"#FF6692\",\"#B6E880\",\"#FF97FF\",\"#FECB52\"],\"font\":{\"color\":\"#2a3f5f\"},\"hovermode\":\"closest\",\"hoverlabel\":{\"align\":\"left\"},\"paper_bgcolor\":\"white\",\"plot_bgcolor\":\"#E5ECF6\",\"polar\":{\"bgcolor\":\"#E5ECF6\",\"angularaxis\":{\"gridcolor\":\"white\",\"linecolor\":\"white\",\"ticks\":\"\"},\"radialaxis\":{\"gridcolor\":\"white\",\"linecolor\":\"white\",\"ticks\":\"\"}},\"ternary\":{\"bgcolor\":\"#E5ECF6\",\"aaxis\":{\"gridcolor\":\"white\",\"linecolor\":\"white\",\"ticks\":\"\"},\"baxis\":{\"gridcolor\":\"white\",\"linecolor\":\"white\",\"ticks\":\"\"},\"caxis\":{\"gridcolor\":\"white\",\"linecolor\":\"white\",\"ticks\":\"\"}},\"coloraxis\":{\"colorbar\":{\"outlinewidth\":0,\"ticks\":\"\"}},\"colorscale\":{\"sequential\":[[0.0,\"#0d0887\"],[0.1111111111111111,\"#46039f\"],[0.2222222222222222,\"#7201a8\"],[0.3333333333333333,\"#9c179e\"],[0.4444444444444444,\"#bd3786\"],[0.5555555555555556,\"#d8576b\"],[0.6666666666666666,\"#ed7953\"],[0.7777777777777778,\"#fb9f3a\"],[0.8888888888888888,\"#fdca26\"],[1.0,\"#f0f921\"]],\"sequentialminus\":[[0.0,\"#0d0887\"],[0.1111111111111111,\"#46039f\"],[0.2222222222222222,\"#7201a8\"],[0.3333333333333333,\"#9c179e\"],[0.4444444444444444,\"#bd3786\"],[0.5555555555555556,\"#d8576b\"],[0.6666666666666666,\"#ed7953\"],[0.7777777777777778,\"#fb9f3a\"],[0.8888888888888888,\"#fdca26\"],[1.0,\"#f0f921\"]],\"diverging\":[[0,\"#8e0152\"],[0.1,\"#c51b7d\"],[0.2,\"#de77ae\"],[0.3,\"#f1b6da\"],[0.4,\"#fde0ef\"],[0.5,\"#f7f7f7\"],[0.6,\"#e6f5d0\"],[0.7,\"#b8e186\"],[0.8,\"#7fbc41\"],[0.9,\"#4d9221\"],[1,\"#276419\"]]},\"xaxis\":{\"gridcolor\":\"white\",\"linecolor\":\"white\",\"ticks\":\"\",\"title\":{\"standoff\":15},\"zerolinecolor\":\"white\",\"automargin\":true,\"zerolinewidth\":2},\"yaxis\":{\"gridcolor\":\"white\",\"linecolor\":\"white\",\"ticks\":\"\",\"title\":{\"standoff\":15},\"zerolinecolor\":\"white\",\"automargin\":true,\"zerolinewidth\":2},\"scene\":{\"xaxis\":{\"backgroundcolor\":\"#E5ECF6\",\"gridcolor\":\"white\",\"linecolor\":\"white\",\"showbackground\":true,\"ticks\":\"\",\"zerolinecolor\":\"white\",\"gridwidth\":2},\"yaxis\":{\"backgroundcolor\":\"#E5ECF6\",\"gridcolor\":\"white\",\"linecolor\":\"white\",\"showbackground\":true,\"ticks\":\"\",\"zerolinecolor\":\"white\",\"gridwidth\":2},\"zaxis\":{\"backgroundcolor\":\"#E5ECF6\",\"gridcolor\":\"white\",\"linecolor\":\"white\",\"showbackground\":true,\"ticks\":\"\",\"zerolinecolor\":\"white\",\"gridwidth\":2}},\"shapedefaults\":{\"line\":{\"color\":\"#2a3f5f\"}},\"annotationdefaults\":{\"arrowcolor\":\"#2a3f5f\",\"arrowhead\":0,\"arrowwidth\":1},\"geo\":{\"bgcolor\":\"white\",\"landcolor\":\"#E5ECF6\",\"subunitcolor\":\"white\",\"showland\":true,\"showlakes\":true,\"lakecolor\":\"white\"},\"title\":{\"x\":0.05},\"mapbox\":{\"style\":\"light\"}}},\"xaxis\":{\"anchor\":\"y\",\"domain\":[0.0,1.0],\"title\":{\"text\":\"Year\"}},\"yaxis\":{\"anchor\":\"x\",\"domain\":[0.0,1.0],\"title\":{\"text\":\"Diesel Ratio\"}},\"coloraxis\":{\"colorbar\":{\"title\":{\"text\":\"Carbon Emission (kgCO2)\"}},\"colorscale\":[[0.0,\"#440154\"],[0.1111111111111111,\"#482878\"],[0.2222222222222222,\"#3e4989\"],[0.3333333333333333,\"#31688e\"],[0.4444444444444444,\"#26828e\"],[0.5555555555555556,\"#1f9e89\"],[0.6666666666666666,\"#35b779\"],[0.7777777777777778,\"#6ece58\"],[0.8888888888888888,\"#b5de2b\"],[1.0,\"#fde725\"]]},\"legend\":{\"tracegroupgap\":0,\"itemsizing\":\"constant\"},\"title\":{\"text\":\"Diesel Karbon Emisyonu ve Ratio\"},\"updatemenus\":[{\"buttons\":[{\"args\":[{\"visible\":[true,false,false,false]},{\"title\":\"Diesel Carbon Emission and Ratio\"}],\"label\":\"Diesel\",\"method\":\"update\"},{\"args\":[{\"visible\":[false,true,false,false]},{\"title\":\"Gasoline Carbon Emission and Ratio\"}],\"label\":\"Gasoline\",\"method\":\"update\"},{\"args\":[{\"visible\":[false,false,true,false]},{\"title\":\"LPG Carbon Emission and Ratio\"}],\"label\":\"LPG\",\"method\":\"update\"},{\"args\":[{\"visible\":[false,false,false,true]},{\"title\":\"Electric Carbon Emission and Ratio\"}],\"label\":\"Electric\",\"method\":\"update\"}],\"direction\":\"down\",\"showactive\":true,\"x\":0.05,\"xanchor\":\"left\",\"y\":1.15,\"yanchor\":\"top\"}]},                        {\"responsive\": true}                    ).then(function(){\n",
       "                            \n",
       "var gd = document.getElementById('b8f9ceca-8acb-427b-a515-f16cd62e46f5');\n",
       "var x = new MutationObserver(function (mutations, observer) {{\n",
       "        var display = window.getComputedStyle(gd).display;\n",
       "        if (!display || display === 'none') {{\n",
       "            console.log([gd, 'removed!']);\n",
       "            Plotly.purge(gd);\n",
       "            observer.disconnect();\n",
       "        }}\n",
       "}});\n",
       "\n",
       "// Listen for the removal of the full notebook cells\n",
       "var notebookContainer = gd.closest('#notebook-container');\n",
       "if (notebookContainer) {{\n",
       "    x.observe(notebookContainer, {childList: true});\n",
       "}}\n",
       "\n",
       "// Listen for the clearing of the current output cell\n",
       "var outputEl = gd.closest('.output');\n",
       "if (outputEl) {{\n",
       "    x.observe(outputEl, {childList: true});\n",
       "}}\n",
       "\n",
       "                        })                };                });            </script>        </div>"
      ]
     },
     "metadata": {},
     "output_type": "display_data"
    }
   ],
   "source": [
    "df_diesel = df[['Year', 'Diesel Ratio', 'Carbon emission - Diesel (kgCO2)']]\n",
    "df_gasoline = df[['Year', 'Gasoline Ratio', 'Carbon emission - Gasoline (kgCO2)']]\n",
    "df_lpg = df[['Year', 'Ratio', 'Karbon salınımı (kgCO2)']]\n",
    "df_electric = df[['Year', 'Ratio.1', 'Carbon emission (kgCO2)']]\n",
    "\n",
    "\n",
    "fig_diesel = px.scatter(df_diesel, \n",
    "                        x='Year', \n",
    "                        y='Diesel Ratio', \n",
    "                        size='Carbon emission - Diesel (kgCO2)', \n",
    "                        color='Carbon emission - Diesel (kgCO2)', \n",
    "                        color_continuous_scale='Viridis', \n",
    "                        hover_name='Year', \n",
    "                        title='Diesel Karbon Emisyonu ve Ratio',\n",
    "                        labels={'Diesel Ratio': 'Diesel Ratio', 'Carbon emission - Diesel (kgCO2)': 'Carbon Emission (kgCO2)', 'Year': 'Year'})\n",
    "\n",
    "fig_gasoline = px.scatter(df_gasoline, \n",
    "                          x='Year', \n",
    "                          y='Gasoline Ratio', \n",
    "                          size='Carbon emission - Gasoline (kgCO2)', \n",
    "                          color='Carbon emission - Gasoline (kgCO2)', \n",
    "                          color_continuous_scale='Viridis', \n",
    "                          hover_name='Year', \n",
    "                          title='Gasoline Karbon Emisyonu ve Ratio',\n",
    "                          labels={'Gasoline Ratio': 'Gasoline Ratio', 'Carbon emission - Gasoline (kgCO2)': 'Carbon Emission (kgCO2)', 'Year': 'Year'})\n",
    "\n",
    "\n",
    "fig_lpg = px.scatter(df_lpg, \n",
    "                     x='Year', \n",
    "                     y='Ratio', \n",
    "                     size='Karbon salınımı (kgCO2)', \n",
    "                     color='Karbon salınımı (kgCO2)', \n",
    "                     color_continuous_scale='Viridis', \n",
    "                     hover_name='Year', \n",
    "                     title='LPG Karbon Emisyonu ve Ratio',\n",
    "                     labels={'Ratio': 'Ratio', 'Karbon salınımı (kgCO2)': 'Karbon salınımı (kgCO2)', 'Year': 'Year'})\n",
    "\n",
    "\n",
    "fig_electric = px.scatter(df_electric, \n",
    "                          x='Year', \n",
    "                          y='Ratio.1', \n",
    "                          size='Carbon emission (kgCO2)', \n",
    "                          color='Carbon emission (kgCO2)', \n",
    "                          color_continuous_scale='Viridis', \n",
    "                          hover_name='Year', \n",
    "                          title='Electric Karbon Emisyonu ve Ratio',\n",
    "                          labels={'Ratio.1': 'Ratio.1', 'Carbon emission (kgCO2)': 'Carbon emission (kgCO2)', 'Year': 'Year'})\n",
    "\n",
    "\n",
    "fig_diesel.update_layout(\n",
    "    updatemenus=[{\n",
    "        'buttons': [\n",
    "            {\n",
    "                'label': 'Diesel',\n",
    "                'method': 'update',\n",
    "                'args': [{'visible': [True, False, False, False]}, {'title': 'Diesel Carbon Emission and Ratio'}]\n",
    "            },\n",
    "            {\n",
    "                'label': 'Gasoline',\n",
    "                'method': 'update',\n",
    "                'args': [{'visible': [False, True, False, False]}, {'title': 'Gasoline Carbon Emission and Ratio'}]\n",
    "            },\n",
    "            {\n",
    "                'label': 'LPG',\n",
    "                'method': 'update',\n",
    "                'args': [{'visible': [False, False, True, False]}, {'title': 'LPG Carbon Emission and Ratio'}]\n",
    "            },\n",
    "            {\n",
    "                'label': 'Electric',\n",
    "                'method': 'update',\n",
    "                'args': [{'visible': [False, False, False, True]}, {'title': 'Electric Carbon Emission and Ratio'}]\n",
    "            }\n",
    "        ],\n",
    "        'direction': 'down',\n",
    "        'showactive': True,\n",
    "        'x': 0.05,  # Moved further left\n",
    "        'xanchor': 'left',\n",
    "        'y': 1.15,\n",
    "        'yanchor': 'top'\n",
    "    }]\n",
    ")\n",
    "\n",
    "\n",
    "fig_diesel.add_trace(fig_gasoline.data[0])\n",
    "fig_diesel.add_trace(fig_lpg.data[0])\n",
    "fig_diesel.add_trace(fig_electric.data[0])\n",
    "\n",
    "\n",
    "fig_diesel.show()\n"
   ]
  },
  {
   "cell_type": "code",
   "execution_count": 7,
   "id": "80b4a39c-fff7-43f2-b17d-c900e5709c25",
   "metadata": {},
   "outputs": [],
   "source": [
    "fig_diesel.write_html('interactive_carbon_emission_graph.html')\n"
   ]
  },
  {
   "cell_type": "code",
   "execution_count": 10,
   "id": "c70e05d9-7cbf-48c5-becd-5e90d42c54dc",
   "metadata": {},
   "outputs": [
    {
     "data": {
      "image/png": "[encoded data removed]",
      "text/plain": [
       "<Figure size 1200x600 with 1 Axes>"
      ]
     },
     "metadata": {},
     "output_type": "display_data"
    }
   ],
   "source": [
    "import pandas as pd\n",
    "import matplotlib.pyplot as plt\n",
    "\n",
    "\n",
    "file_path = r\"C:\\Users\\Asus\\Desktop\\IE 421 Project\\Carbon Emission Calculation.xlsx\" \n",
    "sheet_name = \"Carbon emission - Year - Type\"  \n",
    "df = pd.read_excel(file_path, sheet_name=sheet_name)\n",
    "\n",
    "\n",
    "grouped_df = df.groupby(\"Year\")[[\"Tot Carbon Emission\", \"If all electric\"]].sum()\n",
    "grouped_df[\"Change Rate (%)\"] = ((grouped_df[\"If all electric\"] - grouped_df[\"Tot Carbon Emission\"]) / grouped_df[\"Tot Carbon Emission\"]) * 100\n",
    "plt.figure(figsize=(12, 6))\n",
    "width = 0.4  # Sütun genişliği\n",
    "years = grouped_df.index\n",
    "\n",
    "plt.bar(years - width / 2, grouped_df[\"Tot Carbon Emission\"], width=width, label=\"Tot Carbon Emission\", color=\"#1f77b4\")  \n",
    "plt.bar(years + width / 2, grouped_df[\"If all electric\"], width=width, label=\"If All Vehicles are Electric\", color=\"#87CEEB\") \n",
    "\n",
    "for i, year in enumerate(years):\n",
    "    change_rate = grouped_df[\"Change Rate (%)\"].iloc[i]\n",
    "    plt.text(year, max(grouped_df.iloc[i, :2]) + 5, f\"{change_rate:.1f}%\", ha=\"center\", fontsize=10, color=\"darkblue\")\n",
    "\n",
    "\n",
    "plt.title(\"Yearly Comparison of Total Carbon Emission and If All Vehicles Were Electric\", fontsize=14, fontweight=\"bold\")\n",
    "plt.xlabel(\"Year\", fontsize=12, fontweight=\"bold\")\n",
    "plt.ylabel(\"Megaton CO2/year\", fontsize=12, fontweight=\"bold\")\n",
    "plt.xticks(years, fontsize=11)\n",
    "plt.legend(fontsize=10, title=\"Metrics\", title_fontsize=12)\n",
    "plt.grid(axis='y', linestyle='--', alpha=0.7) \n",
    "plt.tight_layout()\n",
    "\n",
    "output_path = \"carbon_emission_comparison.png\" \n",
    "plt.savefig(output_path, dpi=300, bbox_inches='tight')\n",
    "\n",
    "plt.show()"
   ]
  },
  {
   "cell_type": "code",
   "execution_count": 11,
   "id": "05c6b28b-be0f-4ddd-95b0-b54f04a50b7b",
   "metadata": {},
   "outputs": [
    {
     "name": "stdout",
     "output_type": "stream",
     "text": [
      "      Vehicle type  gasoline  diesel   LPG  electric\n",
      "0  Carbon Emission      2772  2412.0  2265   1865.85\n"
     ]
    },
    {
     "data": {
      "image/png": "[encoded data removed]",
      "text/plain": [
       "<Figure size 800x600 with 1 Axes>"
      ]
     },
     "metadata": {},
     "output_type": "display_data"
    }
   ],
   "source": [
    "import pandas as pd\n",
    "import matplotlib.pyplot as plt\n",
    "\n",
    "df = pd.read_excel(r\"C:\\Users\\Asus\\Desktop\\IE 421 Project\\Carbon Emission Calculation.xlsx\" , sheet_name='Vehicle type Carbon em. yearly') \n",
    "\n",
    "print(df.head())\n",
    "\n",
    "labels = ['Gasoline', 'Diesel', 'LPG', 'Electric']\n",
    "values = df[['gasoline', 'diesel', 'LPG', 'electric']].mean()  \n",
    "\n",
    "plt.figure(figsize=(8,6))\n",
    "colors = plt.cm.Blues(range(50, 256, 50))  \n",
    "\n",
    "bars = plt.bar(labels, values, color=colors)\n",
    "\n",
    "plt.title('Carbon Emissions per Vehicle Yearly', fontsize=14)\n",
    "plt.xlabel('Fuel Type', fontsize=12)\n",
    "plt.ylabel('(kg CO2/year)', fontsize=12)\n",
    "\n",
    "# Değerleri sütunların üst kısmına ekleyelim\n",
    "for bar in bars:\n",
    "    yval = bar.get_height()\n",
    "    plt.text(bar.get_x() + bar.get_width()/2, yval + 0.5, f'{yval:.2f}', ha='center', va='bottom', fontsize=10)\n",
    "\n",
    "# Grafiği kaydetme\n",
    "plt.savefig('carbon_emissions_vehicle_yearly.png')\n",
    "\n",
    "# Grafiği gösterme\n",
    "plt.show()"
   ]
  },
  {
   "cell_type": "code",
   "execution_count": null,
   "id": "b6e5b027-fe00-4017-a742-4940b0b3f0fc",
   "metadata": {},
   "outputs": [],
   "source": []
  }
 ],
 "metadata": {
  "kernelspec": {
   "display_name": "Python 3 (ipykernel)",
   "language": "python",
   "name": "python3"
  },
  "language_info": {
   "codemirror_mode": {
    "name": "ipython",
    "version": 3
   },
   "file_extension": ".py",
   "mimetype": "text/x-python",
   "name": "python",
   "nbconvert_exporter": "python",
   "pygments_lexer": "ipython3",
   "version": "3.12.1"
  }
 },
 "nbformat": 4,
 "nbformat_minor": 5
}
